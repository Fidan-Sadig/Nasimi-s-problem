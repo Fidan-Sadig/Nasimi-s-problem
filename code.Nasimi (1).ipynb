{
 "cells": [
  {
   "cell_type": "code",
   "execution_count": 1,
   "metadata": {},
   "outputs": [
    {
     "name": "stdout",
     "output_type": "stream",
     "text": [
      "Cümləni daxil edin: məndə sığar iki cahan, mən bu cahanə sığmazam.\n",
      "nfoef şihbs jqj çbxbo, nfo cü çbxbof şihnbabn.\n"
     ]
    }
   ],
   "source": [
    "s = input(\"Cümləni daxil edin: \")\n",
    "string = list(s)\n",
    "lower= ['a','b','c','ç','d','e','ə','f','g','ğ','h','x','ı','i','j','k','q','m','n','o','p','r','s','ş','t','u','ü','v','y','z']\n",
    "\n",
    "i=0\n",
    "for c in string:\n",
    "    i+=1\n",
    "    if c in lower:\n",
    "        if c == lower[-1]:\n",
    "            string[i-1]=lower[0]\n",
    "        else: \n",
    "            string[i-1]= lower[lower.index(c)+1]\n",
    "    else: \n",
    "        continue\n",
    "string= ''.join(string)\n",
    "print(string)"
   ]
  },
  {
   "cell_type": "code",
   "execution_count": null,
   "metadata": {},
   "outputs": [],
   "source": []
  }
 ],
 "metadata": {
  "kernelspec": {
   "display_name": "Python 3",
   "language": "python",
   "name": "python3"
  },
  "language_info": {
   "codemirror_mode": {
    "name": "ipython",
    "version": 3
   },
   "file_extension": ".py",
   "mimetype": "text/x-python",
   "name": "python",
   "nbconvert_exporter": "python",
   "pygments_lexer": "ipython3",
   "version": "3.7.6"
  }
 },
 "nbformat": 4,
 "nbformat_minor": 4
}
